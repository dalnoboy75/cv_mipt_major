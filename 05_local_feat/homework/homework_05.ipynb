{
 "cells": [
  {
   "cell_type": "markdown",
   "metadata": {},
   "source": [
    "# Homework 5"
   ]
  },
  {
   "cell_type": "markdown",
   "metadata": {},
   "source": [
    "# Задача №1 - Можете ли вы отличить сорняки от рассады?\n",
    "\n",
    "Теперь приступим к задаче классификации на картинках. Реализуйте программу, которая определяет тип рассады на изображении. \n",
    "\n",
    "Для того, чтобы определить характерные особенности каждого типа рассады, у вас есть train. Train это папка, в которой картинки уже классифицированы и лежат в соответствующих папках. Исходя из этой информации можете найти признаки, присущие конкретному растению.\n",
    "\n",
    "Проверка вашего решения будет на происходить на test. В папке test уже нет метки класса для каждой картинки. \n",
    "\n",
    "[Ссылка на Яндекс-диск](https://yadi.sk/d/0Zzp0klXT0iRmA), все картинки тут.\n",
    "\n",
    "Примеры изображений для теста:\n",
    "<table><tr>\n",
    "    <td> <img src=\"https://i.ibb.co/tbqR37m/fhj.png\" alt=\"Drawing\" style=\"width: 200px;\"/> </td>\n",
    "    <td> <img src=\"https://i.ibb.co/6yL3Wmt/sfg.png\" alt=\"Drawing\" style=\"width: 200px;\"/> </td>\n",
    "    <td> <img src=\"https://i.ibb.co/pvn7NvF/asd.png\" alt=\"Drawing\" style=\"width: 200px;\"/> </td>\n",
    "</tr></table>"
   ]
  },
  {
   "cell_type": "code",
   "execution_count": null,
   "metadata": {},
   "outputs": [],
   "source": [
    "# Ваш код"
   ]
  },
  {
   "cell_type": "markdown",
   "metadata": {},
   "source": [
    "# Задача №2 - Собери пазл (2.0).\n",
    "\n",
    "Даны кусочки изображения, ваша задача склеить пазл в исходную картинку. \n",
    "\n",
    "Условия:\n",
    "* Дано исходное изображение для проверки, использовать собранное изображение в самом алгоритме нельзя;\n",
    "* Картинки имеют друг с другом пересечение;\n",
    "* После разрезки кусочки пазлов не были повернуты или отражены;\n",
    "* НЕЛЬЗЯ выбрать опорную картинку для сбора пазла, как это было в homework 3\n",
    "* В процессе проверки решения пазлы могут быть перемешаны, т.е. порядок пазлов в проверке может отличаться от исходного \n",
    "\n",
    "Изображения расположены по [ссылке](https://disk.yandex.ru/d/XtpawH1sV9UDlg).\n",
    "\n",
    "Примеры изображений:\n",
    "<img src=\"puzzle/su_fighter.jpg\" alt=\"Drawing\" style=\"width: 300px;\"/>\n",
    "<table><tr>\n",
    "    <td> <img src=\"puzzle/su_fighter_shuffle/0.jpg\" alt=\"Drawing\" style=\"width: 200px;\"/> </td>\n",
    "    <td> <img src=\"puzzle/su_fighter_shuffle/1.jpg\" alt=\"Drawing\" style=\"width: 200px;\"/> </td>\n",
    "    <td> <img src=\"puzzle/su_fighter_shuffle/2.jpg\" alt=\"Drawing\" style=\"width: 200px;\"/> </td>\n",
    "    <td> <img src=\"puzzle/su_fighter_shuffle/3.jpg\" alt=\"Drawing\" style=\"width: 200px;\"/> </td>\n",
    "</tr></table>"
   ]
  },
  {
   "cell_type": "code",
   "execution_count": null,
   "metadata": {},
   "outputs": [],
   "source": [
    "# Ваш код"
   ]
  },
  {
   "cell_type": "code",
   "execution_count": null,
   "metadata": {},
   "outputs": [],
   "source": []
  }
 ],
 "metadata": {
  "hide_input": false,
  "kernelspec": {
   "display_name": "Python 3 (ipykernel)",
   "language": "python",
   "name": "python3"
  },
  "language_info": {
   "codemirror_mode": {
    "name": "ipython",
    "version": 3
   },
   "file_extension": ".py",
   "mimetype": "text/x-python",
   "name": "python",
   "nbconvert_exporter": "python",
   "pygments_lexer": "ipython3",
   "version": "3.10.12"
  },
  "toc": {
   "base_numbering": 1,
   "nav_menu": {},
   "number_sections": true,
   "sideBar": true,
   "skip_h1_title": false,
   "title_cell": "Table of Contents",
   "title_sidebar": "Contents",
   "toc_cell": false,
   "toc_position": {},
   "toc_section_display": true,
   "toc_window_display": false
  },
  "varInspector": {
   "cols": {
    "lenName": 16,
    "lenType": 16,
    "lenVar": 40
   },
   "kernels_config": {
    "python": {
     "delete_cmd_postfix": "",
     "delete_cmd_prefix": "del ",
     "library": "var_list.py",
     "varRefreshCmd": "print(var_dic_list())"
    },
    "r": {
     "delete_cmd_postfix": ") ",
     "delete_cmd_prefix": "rm(",
     "library": "var_list.r",
     "varRefreshCmd": "cat(var_dic_list()) "
    }
   },
   "types_to_exclude": [
    "module",
    "function",
    "builtin_function_or_method",
    "instance",
    "_Feature"
   ],
   "window_display": false
  }
 },
 "nbformat": 4,
 "nbformat_minor": 4
}
