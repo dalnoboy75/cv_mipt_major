{
 "cells": [
  {
   "cell_type": "markdown",
   "metadata": {},
   "source": [
    "# Homework 4"
   ]
  },
  {
   "cell_type": "markdown",
   "metadata": {},
   "source": [
    "# Задача №1 - Лего детальки\n",
    "\n",
    "Имеется 2 выборки из датасета фотографий лего картинок. Структура одной выборки следующая:\n",
    "```\n",
    "test\n",
    "| -- 'target.jpg'\n",
    "| -- source\n",
    "|    | -- '*.jpg'\n",
    "|           ...\n",
    "|    | -- '*.jpg'\n",
    "```\n",
    "В выборке есть опорное изображение - target.jpg и набор из 20 картинок в папке source.\n",
    "\n",
    "Ваша задача - написать программу, которая прочитает все изображения и определит на каких изображениях из папки source сфотографирована такая же лего деталька, что и деталь в target.jpg\n",
    "\n",
    "Результатом выполнения программы должен быть файлик с названиями подходящих изображений. Пример в Datasets/gt\n",
    "Снизу представлены 2 вспомогательные функции: чтение всех изображений из папки и посчет получившихся метрик точности\n",
    "\n",
    "Результат выполнения данной задачи напрямую зависит от полученных метрик. Полученные метрики будут вычисляться из метрик по двум тестам $Accuracy=min({Accuracy}_{test1}, {Accuracy}_{test2}$)\n",
    "\n",
    "| Accuracy | Recall | % Выполнения |\n",
    "|:--------:|:------:|:------------:|\n",
    "|< 0.6|< 0.4|0%|\n",
    "|  >= 0.6  | >= 0.4 |     75%      |\n",
    "|  >= 0.7  | >= 0.5 |     100%     |\n",
    "|  >= 0.9  | >= 0.8 |     150%     |\n",
    "\n",
    "<table><tr>\n",
    "    <td> <img src=\"Datasets/test1/target.jpg\" alt=\"Drawing\" style=\"width: 400px;\"/> </td>\n",
    "      <td> <img src=\"Datasets/test2/target.jpg\" alt=\"Drawing\" style=\"width: 400px;\"/> </td>\n",
    "\n",
    "</tr></table>"
   ]
  },
  {
   "cell_type": "code",
   "execution_count": null,
   "metadata": {
    "ExecuteTime": {
     "end_time": "2024-10-11T15:15:01.947562Z",
     "start_time": "2024-10-11T15:15:01.928853Z"
    },
    "collapsed": false,
    "jupyter": {
     "outputs_hidden": false
    }
   },
   "outputs": [],
   "source": [
    "from pathlib import Path\n",
    "import os\n",
    "\n",
    "def read_all_image_paths(folder):\n",
    "    folder = Path(folder)\n",
    "    image_paths = [i.__str__() for i in folder.glob('*.jpg')]\n",
    "    return image_paths\n",
    "\n",
    "def return_metrics(gt_path, prediction_path):\n",
    "    with open(gt_path) as f:\n",
    "        gt = set([i.strip('\\n') for i in f.readlines() if len(i)])\n",
    "    with open(prediction_path) as f:\n",
    "        pred = set([i.strip('\\n') for i in f.readlines() if len(i)])\n",
    "\n",
    "    len_dataset = 20\n",
    "\n",
    "    TP, TN, FP, FN = (0, ) * 4\n",
    "    for i in pred:\n",
    "        if i in gt:\n",
    "            TP += 1\n",
    "            gt.remove(i)\n",
    "        else:\n",
    "            FP += 1\n",
    "    FN = len(gt)\n",
    "    TN = len_dataset - TP - FP - FN\n",
    "\n",
    "    accuracy = (TP + TN) / len_dataset\n",
    "    recall = TP / (TP + FN)\n",
    "\n",
    "    print(f'Acc: {accuracy:.2f}')\n",
    "    print(f'Recall: {recall:.2f}')\n",
    "\n",
    "print('All paths for test1:')\n",
    "images_folder = Path(os.path.abspath('')) / 'Datasets' / 'test1' / 'source'\n",
    "print(read_all_image_paths(images_folder))\n",
    "\n",
    "print('Example of calculating metrics:')\n",
    "gt_test1 = Path(os.path.abspath('')) / 'Datasets' / 'gt' / 'test1.txt'\n",
    "pred = Path(os.path.abspath('')) / 'test1.txt'\n",
    "\n",
    "return_metrics(gt_test1, pred)"
   ]
  },
  {
   "cell_type": "code",
   "execution_count": null,
   "metadata": {
    "collapsed": false,
    "jupyter": {
     "outputs_hidden": false
    }
   },
   "outputs": [],
   "source": [
    "# Ваш код"
   ]
  },
  {
   "cell_type": "markdown",
   "metadata": {},
   "source": [
    "# Задача №2 - Найти шаблон на изображении с помощью HOG и кросс-корреляции\n",
    "\n",
    "Ваша задача - написать программу, которая сможет найти шаблон одного глаза на нескольких изображениях, в том числе затемненных. Использовать нужно HOG представление изображений, поиск шаблона сделать с помощью кросс-корреляции \n",
    "\n",
    "Изображение глаз человека и шаблон, который нужно на нем найти, находятся в папке hog\n",
    "\n",
    "<table><tr>\n",
    "    <td> <img src=\"hog/eye.png\" alt=\"Drawing\" style=\"width: 400px;\"/> \n",
    "</tr></table>     \n",
    "\n",
    "<table><tr>\n",
    "    <td> <img src=\"hog/eyes.jpg\" alt=\"Drawing\" style=\"width: 400px;\"/> </td>\n",
    "      <td> <img src=\"hog/eyes_dark.jpg\" alt=\"Drawing\" style=\"width: 400px;\"/> </td>\n",
    "      <td> <img src=\"hog/woman.jpg\" alt=\"Drawing\" style=\"width: 200px;\"/> </td>\n",
    "\n",
    "</tr></table>"
   ]
  },
  {
   "cell_type": "code",
   "execution_count": null,
   "metadata": {},
   "outputs": [],
   "source": [
    "# Ваш код"
   ]
  },
  {
   "cell_type": "code",
   "execution_count": null,
   "metadata": {},
   "outputs": [],
   "source": []
  }
 ],
 "metadata": {
  "hide_input": false,
  "kernelspec": {
   "display_name": "Python 3 (ipykernel)",
   "language": "python",
   "name": "python3"
  },
  "language_info": {
   "codemirror_mode": {
    "name": "ipython",
    "version": 3
   },
   "file_extension": ".py",
   "mimetype": "text/x-python",
   "name": "python",
   "nbconvert_exporter": "python",
   "pygments_lexer": "ipython3",
   "version": "3.11.4"
  },
  "toc": {
   "base_numbering": 1,
   "nav_menu": {},
   "number_sections": true,
   "sideBar": true,
   "skip_h1_title": false,
   "title_cell": "Table of Contents",
   "title_sidebar": "Contents",
   "toc_cell": false,
   "toc_position": {},
   "toc_section_display": true,
   "toc_window_display": false
  },
  "varInspector": {
   "cols": {
    "lenName": 16,
    "lenType": 16,
    "lenVar": 40
   },
   "kernels_config": {
    "python": {
     "delete_cmd_postfix": "",
     "delete_cmd_prefix": "del ",
     "library": "var_list.py",
     "varRefreshCmd": "print(var_dic_list())"
    },
    "r": {
     "delete_cmd_postfix": ") ",
     "delete_cmd_prefix": "rm(",
     "library": "var_list.r",
     "varRefreshCmd": "cat(var_dic_list()) "
    }
   },
   "types_to_exclude": [
    "module",
    "function",
    "builtin_function_or_method",
    "instance",
    "_Feature"
   ],
   "window_display": false
  }
 },
 "nbformat": 4,
 "nbformat_minor": 4
}
