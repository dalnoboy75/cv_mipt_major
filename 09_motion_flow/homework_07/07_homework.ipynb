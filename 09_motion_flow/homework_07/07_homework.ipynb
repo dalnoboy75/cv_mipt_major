{
 "cells": [
  {
   "cell_type": "markdown",
   "id": "87a521b6-4d28-4921-b2ec-2465e6f46ca5",
   "metadata": {},
   "source": [
    "# Домашнее задание № 7"
   ]
  },
  {
   "cell_type": "markdown",
   "id": "0d30cf95-80f0-432d-9053-4cb9776992ee",
   "metadata": {},
   "source": [
    "# Поиск объектов в видеопотоке"
   ]
  },
  {
   "cell_type": "markdown",
   "id": "642a5193-25dc-4df2-91b1-77860dac156f",
   "metadata": {
    "tags": []
   },
   "source": [
    "Задача - придумать и реализовать алгоритм детекции (обнаружения без классификации) движущихся объектов.\n",
    "\n",
    "В качестве исходных данных приведено видео с конвейера лего (original.mp4)\n",
    "\n",
    "Видеофайл с результатами работы алгоритма должен быть прикреплен вместе с решением. Пример фрагмента видеофайла с результатом (annotated_example.mp4) находится в папке с домашним заданием.\n",
    "\n",
    "Исходный код может быть в формате ```.py``` или ```.ipynb```.\n",
    "\n",
    "## Требования к результату\n",
    "- поиск должен находить геометрические место объекта на видеоизображении. Геометрическое место задано ограничивающим прямоугольником (bounding box);\n",
    "- у каждого объекта должна быть вычислена скорость и уникальный идентификатор (число, как на примере с файлом с результатом)\n",
    "- для решения задачи трекинга разрешается использовать любые пройденные и не пройденные алгоритмы (за исключением нейронных сетей)"
   ]
  },
  {
   "cell_type": "code",
   "execution_count": null,
   "outputs": [],
   "source": [],
   "metadata": {
    "collapsed": false
   }
  }
 ],
 "metadata": {
  "kernelspec": {
   "display_name": "Python 3 (ipykernel)",
   "language": "python",
   "name": "python3"
  },
  "language_info": {
   "codemirror_mode": {
    "name": "ipython",
    "version": 3
   },
   "file_extension": ".py",
   "mimetype": "text/x-python",
   "name": "python",
   "nbconvert_exporter": "python",
   "pygments_lexer": "ipython3",
   "version": "3.8.10"
  }
 },
 "nbformat": 4,
 "nbformat_minor": 5
}
